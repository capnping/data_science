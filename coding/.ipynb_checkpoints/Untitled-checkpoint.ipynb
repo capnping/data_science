{
 "cells": [
  {
   "cell_type": "code",
   "execution_count": null,
   "id": "00d90f8c-e4ee-494c-b432-af4580f98227",
   "metadata": {},
   "outputs": [],
   "source": []
  },
  {
   "cell_type": "code",
   "execution_count": null,
   "id": "4bd52d2f-3944-4d66-a6e0-9a7366af87f9",
   "metadata": {
    "tags": []
   },
   "outputs": [],
   "source": [
    "class Pizza:\n",
    "    __init__(self, ingredient):\n",
    "        self.ingredient = ingredient\n",
    "        \n",
    "        \n",
    "print(Pizza(['cheese', 'Tomatoes']))\n"
   ]
  }
 ],
 "metadata": {
  "kernelspec": {
   "display_name": "Python 3 (ipykernel)",
   "language": "python",
   "name": "python3"
  },
  "language_info": {
   "codemirror_mode": {
    "name": "ipython",
    "version": 3
   },
   "file_extension": ".py",
   "mimetype": "text/x-python",
   "name": "python",
   "nbconvert_exporter": "python",
   "pygments_lexer": "ipython3",
   "version": "3.9.7"
  }
 },
 "nbformat": 4,
 "nbformat_minor": 5
}
