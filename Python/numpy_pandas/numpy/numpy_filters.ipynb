{
 "cells": [
  {
   "cell_type": "code",
   "execution_count": 1,
   "id": "a6e928bf",
   "metadata": {},
   "outputs": [],
   "source": [
    "import numpy as np\n",
    "x = np.array([5, 2, 3, 1, 4, 5])\n",
    "y = np.array(['f','o','o','b','a','r'])"
   ]
  },
  {
   "cell_type": "code",
   "execution_count": 4,
   "id": "8d314cec",
   "metadata": {},
   "outputs": [
    {
     "data": {
      "text/plain": [
       "array(['o', 'a'], dtype='<U1')"
      ]
     },
     "execution_count": 4,
     "metadata": {},
     "output_type": "execute_result"
    }
   ],
   "source": [
    "y[np.logical_and(x>2, x < 5)]"
   ]
  },
  {
   "cell_type": "code",
   "execution_count": null,
   "id": "10daf42b",
   "metadata": {},
   "outputs": [],
   "source": [
    "np.all()"
   ]
  }
 ],
 "metadata": {
  "kernelspec": {
   "display_name": "Python 3 (ipykernel)",
   "language": "python",
   "name": "python3"
  },
  "language_info": {
   "codemirror_mode": {
    "name": "ipython",
    "version": 3
   },
   "file_extension": ".py",
   "mimetype": "text/x-python",
   "name": "python",
   "nbconvert_exporter": "python",
   "pygments_lexer": "ipython3",
   "version": "3.9.7"
  }
 },
 "nbformat": 4,
 "nbformat_minor": 5
}
